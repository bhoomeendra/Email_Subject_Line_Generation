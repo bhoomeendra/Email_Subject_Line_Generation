{
 "cells": [
  {
   "cell_type": "code",
   "execution_count": 17,
   "id": "fc65a1c6-cb18-43b3-9e02-537a53bf40c1",
   "metadata": {},
   "outputs": [],
   "source": [
    "import pandas as pd\n",
    "import ipdb\n",
    "import os\n",
    "\n",
    "from tqdm import tqdm\n",
    "from typing import Literal\n",
    "from pydantic import BaseModel\n",
    "from pathlib import Path\n",
    "\n",
    "class Config(BaseModel):\n",
    "    split:Literal['train','test','dev']\n",
    "    BASEPATH : Path = Path(\"../data/\")\n",
    "    \n",
    "\n",
    "class Email2Table():\n",
    "    \n",
    "    def __init__(self,config:Config):\n",
    "        self.config = config\n",
    "        \n",
    "        self.file_paths: List[str] = [ self.config.BASEPATH/self.config.split/name \n",
    "                                      for name in \n",
    "                                      os.listdir(self.config.BASEPATH/self.config.split)]\n",
    "        \n",
    "        self.emails: List[str] = [ open(self.file_paths[idx],'r').read().strip()\\\n",
    "                                    for idx in tqdm(range(len(self.file_paths)),\n",
    "                                                    desc=\"Loading Email\") ]\n",
    "    def split_email(self,email):\n",
    "        if self.config.split == 'train':\n",
    "            body,subject = email.split(\"@subject\")\n",
    "            ipdb.set_trace()\n",
    "            return (body,subject)\n",
    "        else:\n",
    "            delimiters = [\"@subject\",\"@ann0\",\"@ann1\",\"@ann2\"])\n",
    "            for delimiter in delimiters:\n",
    "                email = \"[SPLIT]\".join(email.split(delimiter))\n",
    "            body,subject,annot0,annot1,annot2 = email.split(\"[SPLIT]\")\n",
    "            ipdb.set_trace()\n",
    "            return (body,subject,annot0,annot1,annot2)\n",
    "    \n",
    "    def convert(self):\n",
    "        table = []\n",
    "        for email in self.emails:\n",
    "            \n",
    "            table.append(self.split_email(email))\n",
    "        cols = [\"body\",\"subject\"]\n",
    "        if self.config.split!='train':\n",
    "            cols.extend([\"ann0\",\"ann1\",\"ann2\"])\n",
    "        pd.DataFrame(table,columns=cols).to_csv(self.config.BASEPATH/\n",
    "                                                f\"{self.config.split}.csv\")"
   ]
  },
  {
   "cell_type": "code",
   "execution_count": 3,
   "id": "de0e5788-eafe-4cae-9332-6fc86a16c878",
   "metadata": {},
   "outputs": [],
   "source": [
    "config = Config(split='test')"
   ]
  },
  {
   "cell_type": "code",
   "execution_count": 18,
   "id": "594dd269-81e7-4eba-85cf-d2f807ee8535",
   "metadata": {},
   "outputs": [
    {
     "name": "stderr",
     "output_type": "stream",
     "text": [
      "Loading Email: 100%|████████████████████████████████████████████████████████████████████████████████████████████████████| 1906/1906 [00:00<00:00, 2119.84it/s]\n"
     ]
    }
   ],
   "source": [
    "email2table = Email2Table(config)"
   ]
  },
  {
   "cell_type": "code",
   "execution_count": 19,
   "id": "cab2f2aa-7677-499f-ab9b-389e000d6673",
   "metadata": {},
   "outputs": [
    {
     "ename": "TypeError",
     "evalue": "must be str or None, not list",
     "output_type": "error",
     "traceback": [
      "\u001b[0;31m---------------------------------------------------------------------------\u001b[0m",
      "\u001b[0;31mTypeError\u001b[0m                                 Traceback (most recent call last)",
      "Cell \u001b[0;32mIn[19], line 1\u001b[0m\n\u001b[0;32m----> 1\u001b[0m \u001b[43memail2table\u001b[49m\u001b[38;5;241;43m.\u001b[39;49m\u001b[43mconvert\u001b[49m\u001b[43m(\u001b[49m\u001b[43m)\u001b[49m\n",
      "Cell \u001b[0;32mIn[17], line 41\u001b[0m, in \u001b[0;36mEmail2Table.convert\u001b[0;34m(self)\u001b[0m\n\u001b[1;32m     38\u001b[0m table \u001b[38;5;241m=\u001b[39m []\n\u001b[1;32m     39\u001b[0m \u001b[38;5;28;01mfor\u001b[39;00m email \u001b[38;5;129;01min\u001b[39;00m \u001b[38;5;28mself\u001b[39m\u001b[38;5;241m.\u001b[39memails:\n\u001b[0;32m---> 41\u001b[0m     table\u001b[38;5;241m.\u001b[39mappend(\u001b[38;5;28;43mself\u001b[39;49m\u001b[38;5;241;43m.\u001b[39;49m\u001b[43msplit_email\u001b[49m\u001b[43m(\u001b[49m\u001b[43memail\u001b[49m\u001b[43m)\u001b[49m)\n\u001b[1;32m     42\u001b[0m cols \u001b[38;5;241m=\u001b[39m [\u001b[38;5;124m\"\u001b[39m\u001b[38;5;124mbody\u001b[39m\u001b[38;5;124m\"\u001b[39m,\u001b[38;5;124m\"\u001b[39m\u001b[38;5;124msubject\u001b[39m\u001b[38;5;124m\"\u001b[39m]\n\u001b[1;32m     43\u001b[0m \u001b[38;5;28;01mif\u001b[39;00m \u001b[38;5;28mself\u001b[39m\u001b[38;5;241m.\u001b[39mconfig\u001b[38;5;241m.\u001b[39msplit\u001b[38;5;241m!=\u001b[39m\u001b[38;5;124m'\u001b[39m\u001b[38;5;124mtrain\u001b[39m\u001b[38;5;124m'\u001b[39m:\n",
      "Cell \u001b[0;32mIn[17], line 33\u001b[0m, in \u001b[0;36mEmail2Table.split_email\u001b[0;34m(self, email)\u001b[0m\n\u001b[1;32m     30\u001b[0m     \u001b[38;5;28;01mreturn\u001b[39;00m (body,subject)\n\u001b[1;32m     31\u001b[0m \u001b[38;5;28;01melse\u001b[39;00m:\n\u001b[1;32m     32\u001b[0m     body,subject,annot0,annot1,annot2 \u001b[38;5;241m=\u001b[39m \\\n\u001b[0;32m---> 33\u001b[0m     \u001b[43memail\u001b[49m\u001b[38;5;241;43m.\u001b[39;49m\u001b[43msplit\u001b[49m\u001b[43m(\u001b[49m\u001b[43m[\u001b[49m\u001b[38;5;124;43m\"\u001b[39;49m\u001b[38;5;124;43m@subject\u001b[39;49m\u001b[38;5;124;43m\"\u001b[39;49m\u001b[43m,\u001b[49m\u001b[38;5;124;43m\"\u001b[39;49m\u001b[38;5;124;43m@ann0\u001b[39;49m\u001b[38;5;124;43m\"\u001b[39;49m\u001b[43m,\u001b[49m\u001b[38;5;124;43m\"\u001b[39;49m\u001b[38;5;124;43m@ann1\u001b[39;49m\u001b[38;5;124;43m\"\u001b[39;49m\u001b[43m,\u001b[49m\u001b[38;5;124;43m\"\u001b[39;49m\u001b[38;5;124;43m@ann2\u001b[39;49m\u001b[38;5;124;43m\"\u001b[39;49m\u001b[43m]\u001b[49m\u001b[43m)\u001b[49m\n\u001b[1;32m     34\u001b[0m     ipdb\u001b[38;5;241m.\u001b[39mset_trace()\n\u001b[1;32m     35\u001b[0m     \u001b[38;5;28;01mreturn\u001b[39;00m (body,subject,annot0,annot1,annot2)\n",
      "\u001b[0;31mTypeError\u001b[0m: must be str or None, not list"
     ]
    }
   ],
   "source": [
    "email2table.convert()"
   ]
  },
  {
   "cell_type": "code",
   "execution_count": null,
   "id": "8b916a3e-e315-449a-8a5d-a95a5b8daf0d",
   "metadata": {},
   "outputs": [],
   "source": []
  }
 ],
 "metadata": {
  "kernelspec": {
   "display_name": "Python 3 (ipykernel)",
   "language": "python",
   "name": "python3"
  },
  "language_info": {
   "codemirror_mode": {
    "name": "ipython",
    "version": 3
   },
   "file_extension": ".py",
   "mimetype": "text/x-python",
   "name": "python",
   "nbconvert_exporter": "python",
   "pygments_lexer": "ipython3",
   "version": "3.9.16"
  }
 },
 "nbformat": 4,
 "nbformat_minor": 5
}
